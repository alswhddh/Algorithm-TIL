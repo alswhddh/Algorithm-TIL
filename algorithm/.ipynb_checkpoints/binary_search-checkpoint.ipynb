{
 "cells": [
  {
   "cell_type": "code",
   "execution_count": 1,
   "id": "every-registrar",
   "metadata": {},
   "outputs": [],
   "source": [
    "L = [2, 3, 5, 6, 9, 11, 15]\n",
    "target = 6"
   ]
  },
  {
   "cell_type": "code",
   "execution_count": 2,
   "id": "large-distributor",
   "metadata": {},
   "outputs": [],
   "source": [
    "lower = 0\n",
    "upper = len(L) - 1\n",
    "index = -1"
   ]
  },
  {
   "cell_type": "code",
   "execution_count": null,
   "id": "judicial-moral",
   "metadata": {},
   "outputs": [],
   "source": [
    "while(lower <= upper):\n",
    "    p"
   ]
  }
 ],
 "metadata": {
  "kernelspec": {
   "display_name": "Python 3",
   "language": "python",
   "name": "python3"
  },
  "language_info": {
   "codemirror_mode": {
    "name": "ipython",
    "version": 3
   },
   "file_extension": ".py",
   "mimetype": "text/x-python",
   "name": "python",
   "nbconvert_exporter": "python",
   "pygments_lexer": "ipython3",
   "version": "3.8.8"
  }
 },
 "nbformat": 4,
 "nbformat_minor": 5
}
